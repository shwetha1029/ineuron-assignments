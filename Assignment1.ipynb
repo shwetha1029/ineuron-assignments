{
 "cells": [
  {
   "cell_type": "markdown",
   "id": "e51ffd5e",
   "metadata": {},
   "source": [
    "1. In the below elements which of them are values or an expression? eg:- values can be integer or string and expressions will be mathematical operators.\n",
    "* \n",
    "'hello'\n",
    "-87.8\n",
    "- \n",
    "/ \n",
    "+\t\n",
    "6 \n",
    "\n",
    "answers:\n",
    "    * => this symbol is an expression for multiplication\n",
    "    'hello'=> is a string value\n",
    "    -87.8 => is a float value\n",
    "    - => this symbol is an expression for neagative\n",
    "    / => this symbol is an expression for division and fraction\n",
    "    + => this symbol is an expression for add numbers \n",
    "    6 => is a integer value\n"
   ]
  },
  {
   "cell_type": "markdown",
   "id": "1857efac",
   "metadata": {},
   "source": [
    "2. What is the difference between string and variable?\n",
    "\n",
    "answers:\n",
    "    string => assign to a variable using quotes (single or double) will be considered as a string\n",
    "    a = \"10\" \n",
    "    b = \"20\" \n",
    "    print(a+b)\n",
    "    \n",
    "    variabe => variable as an identifier to store a value in a memory location and to manipulate it if needed\n",
    "    a = 10 \n",
    "    b = 20 \n",
    "    print(a+b)"
   ]
  },
  {
   "cell_type": "markdown",
   "id": "cc3812e6",
   "metadata": {},
   "source": [
    "3. Describe three different data types.\n",
    "answers:\n",
    "    Integer = 23\n",
    "    Floating-point number = 2.3\n",
    "    String = \"23\"\n",
    "    List = [23,22]"
   ]
  },
  {
   "cell_type": "markdown",
   "id": "3f42b12a",
   "metadata": {},
   "source": [
    "4. What is an expression made up of? What do all expressions do?\n",
    "\n",
    "answer:\n",
    "    An expression is a combination of values, variables, operators, and calls to functions. Expressions need to be evaluated.\n",
    "    Python to print an expression, the interpreter evaluates the expression and displays the result"
   ]
  },
  {
   "cell_type": "markdown",
   "id": "2bf602db",
   "metadata": {},
   "source": [
    "5. This assignment statements, like spam = 10. What is the difference between an expression and a statement?\n",
    "answer:\n",
    "    Expression is made up of values, containers, and mathematical operators (operands) and the statement is just like a command that a python interpreter executes like print"
   ]
  },
  {
   "cell_type": "code",
   "execution_count": 8,
   "id": "d682aec6",
   "metadata": {},
   "outputs": [
    {
     "name": "stdout",
     "output_type": "stream",
     "text": [
      "Object `contain` not found.\n"
     ]
    },
    {
     "data": {
      "text/plain": [
       "23"
      ]
     },
     "execution_count": 8,
     "metadata": {},
     "output_type": "execute_result"
    }
   ],
   "source": [
    "6. After running the following code, what does the variable bacon contain?\n",
    "bacon = 22\n",
    "bacon + 1"
   ]
  },
  {
   "cell_type": "code",
   "execution_count": 9,
   "id": "245c8315",
   "metadata": {},
   "outputs": [
    {
     "name": "stdout",
     "output_type": "stream",
     "text": [
      "Object `be` not found.\n"
     ]
    },
    {
     "data": {
      "text/plain": [
       "'spamspamspam'"
      ]
     },
     "execution_count": 9,
     "metadata": {},
     "output_type": "execute_result"
    }
   ],
   "source": [
    "7. What should the values of the following two terms be?\n",
    "'spam' + 'spamspam'\n",
    "'spam' * 3\n",
    " \n",
    "    same"
   ]
  },
  {
   "cell_type": "markdown",
   "id": "e4fd76fd",
   "metadata": {},
   "source": [
    "8. Why is eggs a valid variable name while 100 is invalid?\n",
    "\n",
    "answer:\n",
    "    because we cant start giving variable an integer name.\n",
    "    if we, we should begin with, a string-like alphabet name then integer. e100 or eggs100 is valid"
   ]
  },
  {
   "cell_type": "markdown",
   "id": "c16ab496",
   "metadata": {},
   "source": [
    "9. What three functions can be used to get the integer, floating-point number, or string version of a value?\n",
    "\n",
    "answer:\n",
    "    str(), int(), float()"
   ]
  },
  {
   "cell_type": "markdown",
   "id": "8e7e7db6",
   "metadata": {},
   "source": [
    "10. Why does this expression cause an error? How can you fix it?\n",
    "'I have eaten ' + 99 + ' burritos.'\n",
    "\n",
    "answer:\n",
    "     because 99 is an integer it cannot be concatenated with strings, if we have to concatenate it we need to do typecasting"
   ]
  }
 ],
 "metadata": {
  "kernelspec": {
   "display_name": "Python 3 (ipykernel)",
   "language": "python",
   "name": "python3"
  },
  "language_info": {
   "codemirror_mode": {
    "name": "ipython",
    "version": 3
   },
   "file_extension": ".py",
   "mimetype": "text/x-python",
   "name": "python",
   "nbconvert_exporter": "python",
   "pygments_lexer": "ipython3",
   "version": "3.9.7"
  }
 },
 "nbformat": 4,
 "nbformat_minor": 5
}
